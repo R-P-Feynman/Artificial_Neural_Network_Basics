{
 "cells": [
  {
   "cell_type": "markdown",
   "metadata": {},
   "source": [
    "# NLP - Sarcasm Classifier\n",
    "\n",
    "Requires the sarcasm.json data file to be placed in the same folder as this notebook.\n",
    "\n",
    "## Import Modules"
   ]
  },
  {
   "cell_type": "code",
   "execution_count": 1,
   "metadata": {
    "colab": {},
    "colab_type": "code",
    "id": "XYYDvoskkE61"
   },
   "outputs": [],
   "source": [
    "import json\n",
    "import tensorflow as tf\n",
    "\n",
    "from tensorflow.keras.preprocessing.text import Tokenizer\n",
    "from tensorflow.keras.preprocessing.sequence import pad_sequences"
   ]
  },
  {
   "cell_type": "markdown",
   "metadata": {},
   "source": [
    "## Set Parameters"
   ]
  },
  {
   "cell_type": "code",
   "execution_count": 2,
   "metadata": {
    "colab": {},
    "colab_type": "code",
    "id": "0eJSTTYnkJQd"
   },
   "outputs": [],
   "source": [
    "vocab_size = 1000\n",
    "embedding_dim = 16\n",
    "max_length = 100\n",
    "trunc_type='post'\n",
    "padding_type='post'\n",
    "oov_tok = \"<OOV>\"\n",
    "training_size = 20000\n"
   ]
  },
  {
   "cell_type": "markdown",
   "metadata": {},
   "source": [
    "## Create Lists from JSON File"
   ]
  },
  {
   "cell_type": "code",
   "execution_count": 3,
   "metadata": {
    "colab": {},
    "colab_type": "code",
    "id": "oaLaaqhNkUPd"
   },
   "outputs": [],
   "source": [
    "with open(\"./sarcasm.json\", 'r') as f:\n",
    "    datastore = json.load(f)\n",
    "\n",
    "sentences = []\n",
    "labels = []\n",
    "\n",
    "for item in datastore:\n",
    "    sentences.append(item['headline'])\n",
    "    labels.append(item['is_sarcastic'])"
   ]
  },
  {
   "cell_type": "code",
   "execution_count": 4,
   "metadata": {
    "colab": {},
    "colab_type": "code",
    "id": "S1sD-7v0kYWk"
   },
   "outputs": [],
   "source": [
    "training_sentences = sentences[0:training_size]\n",
    "testing_sentences = sentences[training_size:]\n",
    "training_labels = labels[0:training_size]\n",
    "testing_labels = labels[training_size:]"
   ]
  },
  {
   "cell_type": "markdown",
   "metadata": {},
   "source": [
    "## Tokenize Text, Create Sequences and Pad/Truncate"
   ]
  },
  {
   "cell_type": "code",
   "execution_count": 5,
   "metadata": {
    "colab": {},
    "colab_type": "code",
    "id": "3u8UB0MCkZ5N"
   },
   "outputs": [],
   "source": [
    "tokenizer = Tokenizer(num_words=vocab_size, oov_token=oov_tok)\n",
    "tokenizer.fit_on_texts(training_sentences)\n",
    "\n",
    "word_index = tokenizer.word_index\n",
    "\n",
    "training_sequences = tokenizer.texts_to_sequences(training_sentences)\n",
    "training_padded = pad_sequences(training_sequences, maxlen=max_length, padding=padding_type, truncating=trunc_type)\n",
    "\n",
    "testing_sequences = tokenizer.texts_to_sequences(testing_sentences)\n",
    "testing_padded = pad_sequences(testing_sequences, maxlen=max_length, padding=padding_type, truncating=trunc_type)"
   ]
  },
  {
   "cell_type": "markdown",
   "metadata": {},
   "source": [
    "## Create Model"
   ]
  },
  {
   "cell_type": "code",
   "execution_count": 6,
   "metadata": {
    "colab": {},
    "colab_type": "code",
    "id": "FufaT4vlkiDE"
   },
   "outputs": [
    {
     "name": "stderr",
     "output_type": "stream",
     "text": [
      "WARNING: Logging before flag parsing goes to stderr.\n",
      "W0805 15:42:15.447925 13784 deprecation.py:506] From C:\\Users\\rober\\.conda\\envs\\tensorflow\\lib\\site-packages\\tensorflow\\python\\keras\\initializers.py:119: calling RandomUniform.__init__ (from tensorflow.python.ops.init_ops) with dtype is deprecated and will be removed in a future version.\n",
      "Instructions for updating:\n",
      "Call initializer instance with the dtype argument instead of passing it to the constructor\n",
      "W0805 15:42:15.455904 13784 deprecation.py:506] From C:\\Users\\rober\\.conda\\envs\\tensorflow\\lib\\site-packages\\tensorflow\\python\\ops\\init_ops.py:1251: calling VarianceScaling.__init__ (from tensorflow.python.ops.init_ops) with dtype is deprecated and will be removed in a future version.\n",
      "Instructions for updating:\n",
      "Call initializer instance with the dtype argument instead of passing it to the constructor\n",
      "W0805 15:42:15.519732 13784 deprecation.py:323] From C:\\Users\\rober\\.conda\\envs\\tensorflow\\lib\\site-packages\\tensorflow\\python\\ops\\nn_impl.py:180: add_dispatch_support.<locals>.wrapper (from tensorflow.python.ops.array_ops) is deprecated and will be removed in a future version.\n",
      "Instructions for updating:\n",
      "Use tf.where in 2.0, which has the same broadcast rule as np.where\n"
     ]
    }
   ],
   "source": [
    "model = tf.keras.Sequential([\n",
    "    tf.keras.layers.Embedding(vocab_size, embedding_dim, input_length=max_length),\n",
    "    tf.keras.layers.GlobalAveragePooling1D(),\n",
    "    tf.keras.layers.Dense(24, activation='relu'),\n",
    "    tf.keras.layers.Dense(1, activation='sigmoid')\n",
    "])\n",
    "model.compile(loss='binary_crossentropy',optimizer='adam',metrics=['accuracy'])"
   ]
  },
  {
   "cell_type": "code",
   "execution_count": 7,
   "metadata": {
    "colab": {},
    "colab_type": "code",
    "id": "XfDt1hmYkiys"
   },
   "outputs": [
    {
     "name": "stdout",
     "output_type": "stream",
     "text": [
      "Model: \"sequential\"\n",
      "_________________________________________________________________\n",
      "Layer (type)                 Output Shape              Param #   \n",
      "=================================================================\n",
      "embedding (Embedding)        (None, 100, 16)           16000     \n",
      "_________________________________________________________________\n",
      "global_average_pooling1d (Gl (None, 16)                0         \n",
      "_________________________________________________________________\n",
      "dense (Dense)                (None, 24)                408       \n",
      "_________________________________________________________________\n",
      "dense_1 (Dense)              (None, 1)                 25        \n",
      "=================================================================\n",
      "Total params: 16,433\n",
      "Trainable params: 16,433\n",
      "Non-trainable params: 0\n",
      "_________________________________________________________________\n"
     ]
    }
   ],
   "source": [
    "model.summary()\n"
   ]
  },
  {
   "cell_type": "markdown",
   "metadata": {},
   "source": [
    "## Train/Fit Model"
   ]
  },
  {
   "cell_type": "code",
   "execution_count": 8,
   "metadata": {
    "colab": {},
    "colab_type": "code",
    "id": "2DTKQFf1kkyc"
   },
   "outputs": [
    {
     "name": "stdout",
     "output_type": "stream",
     "text": [
      "Train on 20000 samples, validate on 6709 samples\n",
      "Epoch 1/30\n",
      "20000/20000 - 1s - loss: 0.6684 - acc: 0.5838 - val_loss: 0.5983 - val_acc: 0.7505\n",
      "Epoch 2/30\n",
      "20000/20000 - 1s - loss: 0.4784 - acc: 0.7799 - val_loss: 0.4433 - val_acc: 0.7869\n",
      "Epoch 3/30\n",
      "20000/20000 - 1s - loss: 0.3976 - acc: 0.8185 - val_loss: 0.4102 - val_acc: 0.8095\n",
      "Epoch 4/30\n",
      "20000/20000 - 1s - loss: 0.3778 - acc: 0.8278 - val_loss: 0.4015 - val_acc: 0.8150\n",
      "Epoch 5/30\n",
      "20000/20000 - 1s - loss: 0.3690 - acc: 0.8328 - val_loss: 0.4000 - val_acc: 0.8153\n",
      "Epoch 6/30\n",
      "20000/20000 - 1s - loss: 0.3618 - acc: 0.8338 - val_loss: 0.3996 - val_acc: 0.8173\n",
      "Epoch 7/30\n",
      "20000/20000 - 1s - loss: 0.3582 - acc: 0.8365 - val_loss: 0.4159 - val_acc: 0.8028\n",
      "Epoch 8/30\n",
      "20000/20000 - 1s - loss: 0.3566 - acc: 0.8399 - val_loss: 0.4018 - val_acc: 0.8155\n",
      "Epoch 9/30\n",
      "20000/20000 - 1s - loss: 0.3538 - acc: 0.8386 - val_loss: 0.4016 - val_acc: 0.8132\n",
      "Epoch 10/30\n",
      "20000/20000 - 1s - loss: 0.3543 - acc: 0.8388 - val_loss: 0.4025 - val_acc: 0.8114\n",
      "Epoch 11/30\n",
      "20000/20000 - 1s - loss: 0.3507 - acc: 0.8404 - val_loss: 0.4080 - val_acc: 0.8141\n",
      "Epoch 12/30\n",
      "20000/20000 - 1s - loss: 0.3508 - acc: 0.8413 - val_loss: 0.4035 - val_acc: 0.8101\n",
      "Epoch 13/30\n",
      "20000/20000 - 1s - loss: 0.3498 - acc: 0.8433 - val_loss: 0.4060 - val_acc: 0.8107\n",
      "Epoch 14/30\n",
      "20000/20000 - 1s - loss: 0.3479 - acc: 0.8408 - val_loss: 0.4043 - val_acc: 0.8131\n",
      "Epoch 15/30\n",
      "20000/20000 - 1s - loss: 0.3496 - acc: 0.8403 - val_loss: 0.4072 - val_acc: 0.8110\n",
      "Epoch 16/30\n",
      "20000/20000 - 1s - loss: 0.3483 - acc: 0.8413 - val_loss: 0.4058 - val_acc: 0.8109\n",
      "Epoch 17/30\n",
      "20000/20000 - 1s - loss: 0.3473 - acc: 0.8400 - val_loss: 0.4094 - val_acc: 0.8129\n",
      "Epoch 18/30\n",
      "20000/20000 - 1s - loss: 0.3469 - acc: 0.8411 - val_loss: 0.4140 - val_acc: 0.8103\n",
      "Epoch 19/30\n",
      "20000/20000 - 1s - loss: 0.3471 - acc: 0.8439 - val_loss: 0.4095 - val_acc: 0.8106\n",
      "Epoch 20/30\n",
      "20000/20000 - 1s - loss: 0.3474 - acc: 0.8405 - val_loss: 0.4058 - val_acc: 0.8103\n",
      "Epoch 21/30\n",
      "20000/20000 - 1s - loss: 0.3486 - acc: 0.8414 - val_loss: 0.4099 - val_acc: 0.8114\n",
      "Epoch 22/30\n",
      "20000/20000 - 1s - loss: 0.3470 - acc: 0.8408 - val_loss: 0.4067 - val_acc: 0.8114\n",
      "Epoch 23/30\n",
      "20000/20000 - 1s - loss: 0.3460 - acc: 0.8435 - val_loss: 0.4229 - val_acc: 0.8094\n",
      "Epoch 24/30\n",
      "20000/20000 - 1s - loss: 0.3470 - acc: 0.8425 - val_loss: 0.4395 - val_acc: 0.7958\n",
      "Epoch 25/30\n",
      "20000/20000 - 1s - loss: 0.3465 - acc: 0.8429 - val_loss: 0.4084 - val_acc: 0.8104\n",
      "Epoch 26/30\n",
      "20000/20000 - 1s - loss: 0.3459 - acc: 0.8417 - val_loss: 0.4146 - val_acc: 0.8103\n",
      "Epoch 27/30\n",
      "20000/20000 - 1s - loss: 0.3460 - acc: 0.8438 - val_loss: 0.4154 - val_acc: 0.8067\n",
      "Epoch 28/30\n",
      "20000/20000 - 1s - loss: 0.3449 - acc: 0.8444 - val_loss: 0.4116 - val_acc: 0.8123\n",
      "Epoch 29/30\n",
      "20000/20000 - 1s - loss: 0.3460 - acc: 0.8443 - val_loss: 0.4272 - val_acc: 0.8001\n",
      "Epoch 30/30\n",
      "20000/20000 - 1s - loss: 0.3465 - acc: 0.8413 - val_loss: 0.4087 - val_acc: 0.8114\n"
     ]
    }
   ],
   "source": [
    "num_epochs = 30\n",
    "history = model.fit(training_padded, training_labels, epochs=num_epochs, validation_data=(testing_padded, testing_labels), verbose=2)"
   ]
  },
  {
   "cell_type": "markdown",
   "metadata": {},
   "source": [
    "## Learning Plots"
   ]
  },
  {
   "cell_type": "code",
   "execution_count": 10,
   "metadata": {
    "colab": {},
    "colab_type": "code",
    "id": "2HYfBKXjkmU8"
   },
   "outputs": [
    {
     "data": {
      "image/png": "[encoded data removed]",
      "text/plain": [
       "<Figure size 432x288 with 1 Axes>"
      ]
     },
     "metadata": {
      "needs_background": "light"
     },
     "output_type": "display_data"
    },
    {
     "data": {
      "image/png": "[encoded data removed]",
      "text/plain": [
       "<Figure size 432x288 with 1 Axes>"
      ]
     },
     "metadata": {
      "needs_background": "light"
     },
     "output_type": "display_data"
    }
   ],
   "source": [
    "import matplotlib.pyplot as plt\n",
    "\n",
    "def plot_graphs(history, string):\n",
    "  plt.plot(history.history[string])\n",
    "  plt.plot(history.history['val_'+string])\n",
    "  plt.xlabel(\"Epochs\")\n",
    "  plt.ylabel(string)\n",
    "  plt.legend([string, 'val_'+string])\n",
    "  plt.show()\n",
    "  \n",
    "plot_graphs(history, \"acc\")\n",
    "plot_graphs(history, \"loss\")"
   ]
  }
 ],
 "metadata": {
  "accelerator": "GPU",
  "colab": {
   "collapsed_sections": [],
   "name": "Course 3 - Week 2 - Lesson 2.ipynb",
   "provenance": [],
   "version": "0.3.2"
  },
  "kernelspec": {
   "display_name": "Python 3",
   "language": "python",
   "name": "python3"
  },
  "language_info": {
   "codemirror_mode": {
    "name": "ipython",
    "version": 3
   },
   "file_extension": ".py",
   "mimetype": "text/x-python",
   "name": "python",
   "nbconvert_exporter": "python",
   "pygments_lexer": "ipython3",
   "version": "3.6.7"
  }
 },
 "nbformat": 4,
 "nbformat_minor": 1
}
